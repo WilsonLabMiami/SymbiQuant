{
  "nbformat": 4,
  "nbformat_minor": 0,
  "metadata": {
    "colab": {
      "name": "PIPE_Buchnera.ipynb",
      "provenance": [],
      "machine_shape": "hm"
    },
    "kernelspec": {
      "name": "python3",
      "display_name": "Python 3"
    },
    "language_info": {
      "name": "python"
    },
    "accelerator": "GPU"
  },
  "cells": [
    {
      "cell_type": "markdown",
      "metadata": {
        "id": "c4zGzoV_nKJF"
      },
      "source": [
        "Follow through the code in the following cells to set up PIPE. As default it runs on the Buchnera dataset. You are able to swap that dataset out for your own system"
      ]
    },
    {
      "cell_type": "code",
      "metadata": {
        "colab": {
          "base_uri": "https://localhost:8080/"
        },
        "id": "9e6f_K0ehmJa",
        "outputId": "6358c092-b9d4-4d91-bf13-bc41ae30b062"
      },
      "source": [
        "#Check that this is a GPU enabled session - can alter via >Runtime >Change runtime type\n",
        "\n",
        "!nvidia-smi"
      ],
      "execution_count": 1,
      "outputs": [
        {
          "output_type": "stream",
          "text": [
            "Thu Jun 17 15:36:45 2021       \n",
            "+-----------------------------------------------------------------------------+\n",
            "| NVIDIA-SMI 465.27       Driver Version: 460.32.03    CUDA Version: 11.2     |\n",
            "|-------------------------------+----------------------+----------------------+\n",
            "| GPU  Name        Persistence-M| Bus-Id        Disp.A | Volatile Uncorr. ECC |\n",
            "| Fan  Temp  Perf  Pwr:Usage/Cap|         Memory-Usage | GPU-Util  Compute M. |\n",
            "|                               |                      |               MIG M. |\n",
            "|===============================+======================+======================|\n",
            "|   0  Tesla P100-PCIE...  Off  | 00000000:00:04.0 Off |                    0 |\n",
            "| N/A   38C    P0    27W / 250W |      0MiB / 16280MiB |      0%      Default |\n",
            "|                               |                      |                  N/A |\n",
            "+-------------------------------+----------------------+----------------------+\n",
            "                                                                               \n",
            "+-----------------------------------------------------------------------------+\n",
            "| Processes:                                                                  |\n",
            "|  GPU   GI   CI        PID   Type   Process name                  GPU Memory |\n",
            "|        ID   ID                                                   Usage      |\n",
            "|=============================================================================|\n",
            "|  No running processes found                                                 |\n",
            "+-----------------------------------------------------------------------------+\n"
          ],
          "name": "stdout"
        }
      ]
    },
    {
      "cell_type": "markdown",
      "metadata": {
        "id": "uQs93Cnpn0N_"
      },
      "source": [
        "The previous cell should give some information about the GPU if it is present. Once you have a GPU runtime, we need to install and set up some other things. Firstly, the PIPE github, and secondly some set up of this run time ."
      ]
    },
    {
      "cell_type": "code",
      "metadata": {
        "colab": {
          "base_uri": "https://localhost:8080/"
        },
        "id": "oXOINDuqd0l6",
        "outputId": "a45f8c31-e5cc-4f50-f54d-ab1296e84243"
      },
      "source": [
        "#Import the PIPE data and software - old name is Buchnearer.\n",
        "\n",
        "!git clone https://github.com/EBJames/Buchnearer.git\n"
      ],
      "execution_count": null,
      "outputs": [
        {
          "output_type": "stream",
          "text": [
            "Cloning into 'Buchnearer'...\n",
            "remote: Enumerating objects: 1747, done.\u001b[K\n",
            "remote: Counting objects: 100% (36/36), done.\u001b[K\n",
            "remote: Compressing objects: 100% (25/25), done.\u001b[K\n",
            "remote: Total 1747 (delta 15), reused 32 (delta 11), pack-reused 1711\u001b[K\n",
            "Receiving objects: 100% (1747/1747), 1.14 GiB | 28.81 MiB/s, done.\n",
            "Resolving deltas: 100% (200/200), done.\n",
            "Checking out files: 100% (3575/3575), done.\n"
          ],
          "name": "stdout"
        }
      ]
    },
    {
      "cell_type": "code",
      "metadata": {
        "colab": {
          "base_uri": "https://localhost:8080/",
          "height": 1000
        },
        "id": "wEaNx8-qenQb",
        "outputId": "34c640eb-28f9-4043-b52f-e25e6fdc6c31"
      },
      "source": [
        "#Install and test set up of torch and detectron2\n",
        "!pip install -U torch torchvision\n",
        "!pip install git+https://github.com/facebookresearch/fvcore.git\n",
        "import torch, torchvision\n",
        "torch.__version__\n",
        "\n",
        "!git clone https://github.com/facebookresearch/detectron2 detectron2_repo\n",
        "!pip install -e detectron2_repo"
      ],
      "execution_count": null,
      "outputs": [
        {
          "output_type": "stream",
          "text": [
            "Collecting torch\n",
            "\u001b[?25l  Downloading https://files.pythonhosted.org/packages/d2/a9/b3cea4a97ffabd6639e71608814dbd08081e202e8ac9580250273c0541ff/torch-1.9.0-cp37-cp37m-manylinux1_x86_64.whl (831.4MB)\n",
            "\u001b[K     |████████████████████████████████| 831.4MB 21kB/s \n",
            "\u001b[?25hCollecting torchvision\n",
            "\u001b[?25l  Downloading https://files.pythonhosted.org/packages/71/25/31f5d3c62b80aff0d95b9306e09487a29531a2a3d05cf767376bdc087c3a/torchvision-0.10.0-cp37-cp37m-manylinux1_x86_64.whl (22.1MB)\n",
            "\u001b[K     |████████████████████████████████| 22.1MB 1.3MB/s \n",
            "\u001b[?25hRequirement already satisfied, skipping upgrade: typing-extensions in /usr/local/lib/python3.7/dist-packages (from torch) (3.7.4.3)\n",
            "Requirement already satisfied, skipping upgrade: numpy in /usr/local/lib/python3.7/dist-packages (from torchvision) (1.19.5)\n",
            "Requirement already satisfied, skipping upgrade: pillow>=5.3.0 in /usr/local/lib/python3.7/dist-packages (from torchvision) (7.1.2)\n",
            "\u001b[31mERROR: torchtext 0.9.1 has requirement torch==1.8.1, but you'll have torch 1.9.0 which is incompatible.\u001b[0m\n",
            "Installing collected packages: torch, torchvision\n",
            "  Found existing installation: torch 1.8.1+cu101\n",
            "    Uninstalling torch-1.8.1+cu101:\n",
            "      Successfully uninstalled torch-1.8.1+cu101\n",
            "  Found existing installation: torchvision 0.9.1+cu101\n",
            "    Uninstalling torchvision-0.9.1+cu101:\n",
            "      Successfully uninstalled torchvision-0.9.1+cu101\n",
            "Successfully installed torch-1.9.0 torchvision-0.10.0\n",
            "Collecting git+https://github.com/facebookresearch/fvcore.git\n",
            "  Cloning https://github.com/facebookresearch/fvcore.git to /tmp/pip-req-build-qeuj5bvz\n",
            "  Running command git clone -q https://github.com/facebookresearch/fvcore.git /tmp/pip-req-build-qeuj5bvz\n",
            "Requirement already satisfied: numpy in /usr/local/lib/python3.7/dist-packages (from fvcore==0.1.5) (1.19.5)\n",
            "Collecting yacs>=0.1.6\n",
            "  Downloading https://files.pythonhosted.org/packages/38/4f/fe9a4d472aa867878ce3bb7efb16654c5d63672b86dc0e6e953a67018433/yacs-0.1.8-py3-none-any.whl\n",
            "Collecting pyyaml>=5.1\n",
            "\u001b[?25l  Downloading https://files.pythonhosted.org/packages/7a/a5/393c087efdc78091afa2af9f1378762f9821c9c1d7a22c5753fb5ac5f97a/PyYAML-5.4.1-cp37-cp37m-manylinux1_x86_64.whl (636kB)\n",
            "\u001b[K     |████████████████████████████████| 645kB 16.1MB/s \n",
            "\u001b[?25hRequirement already satisfied: tqdm in /usr/local/lib/python3.7/dist-packages (from fvcore==0.1.5) (4.41.1)\n",
            "Requirement already satisfied: termcolor>=1.1 in /usr/local/lib/python3.7/dist-packages (from fvcore==0.1.5) (1.1.0)\n",
            "Requirement already satisfied: Pillow in /usr/local/lib/python3.7/dist-packages (from fvcore==0.1.5) (7.1.2)\n",
            "Requirement already satisfied: tabulate in /usr/local/lib/python3.7/dist-packages (from fvcore==0.1.5) (0.8.9)\n",
            "Collecting iopath>=0.1.7\n",
            "  Downloading https://files.pythonhosted.org/packages/21/d0/22104caed16fa41382702fed959f4a9b088b2f905e7a82e4483180a2ec2a/iopath-0.1.8-py3-none-any.whl\n",
            "Collecting portalocker\n",
            "  Downloading https://files.pythonhosted.org/packages/68/33/cb524f4de298509927b90aa5ee34767b9a2b93e663cf354b2a3efa2b4acd/portalocker-2.3.0-py2.py3-none-any.whl\n",
            "Building wheels for collected packages: fvcore\n",
            "  Building wheel for fvcore (setup.py) ... \u001b[?25l\u001b[?25hdone\n",
            "  Created wheel for fvcore: filename=fvcore-0.1.5-cp37-none-any.whl size=64354 sha256=8efcae42d6a5e6ea72a10217d3fd90b5308a0332f394fd9904338b88ecfc1c91\n",
            "  Stored in directory: /tmp/pip-ephem-wheel-cache-8rgwjyz0/wheels/48/53/79/3c6485543a4455a0006f5db590ab9957622b6227011941de06\n",
            "Successfully built fvcore\n",
            "Installing collected packages: pyyaml, yacs, portalocker, iopath, fvcore\n",
            "  Found existing installation: PyYAML 3.13\n",
            "    Uninstalling PyYAML-3.13:\n",
            "      Successfully uninstalled PyYAML-3.13\n",
            "Successfully installed fvcore-0.1.5 iopath-0.1.8 portalocker-2.3.0 pyyaml-5.4.1 yacs-0.1.8\n",
            "Cloning into 'detectron2_repo'...\n",
            "remote: Enumerating objects: 12382, done.\u001b[K\n",
            "remote: Counting objects: 100% (289/289), done.\u001b[K\n",
            "remote: Compressing objects: 100% (144/144), done.\u001b[K\n",
            "remote: Total 12382 (delta 156), reused 268 (delta 145), pack-reused 12093\u001b[K\n",
            "Receiving objects: 100% (12382/12382), 4.91 MiB | 6.74 MiB/s, done.\n",
            "Resolving deltas: 100% (8999/8999), done.\n",
            "Obtaining file:///content/detectron2_repo\n",
            "Requirement already satisfied: termcolor>=1.1 in /usr/local/lib/python3.7/dist-packages (from detectron2==0.4.1) (1.1.0)\n",
            "Requirement already satisfied: Pillow>=7.1 in /usr/local/lib/python3.7/dist-packages (from detectron2==0.4.1) (7.1.2)\n",
            "Requirement already satisfied: yacs>=0.1.6 in /usr/local/lib/python3.7/dist-packages (from detectron2==0.4.1) (0.1.8)\n",
            "Requirement already satisfied: tabulate in /usr/local/lib/python3.7/dist-packages (from detectron2==0.4.1) (0.8.9)\n",
            "Requirement already satisfied: cloudpickle in /usr/local/lib/python3.7/dist-packages (from detectron2==0.4.1) (1.3.0)\n",
            "Requirement already satisfied: matplotlib in /usr/local/lib/python3.7/dist-packages (from detectron2==0.4.1) (3.2.2)\n",
            "Requirement already satisfied: tqdm>4.29.0 in /usr/local/lib/python3.7/dist-packages (from detectron2==0.4.1) (4.41.1)\n",
            "Requirement already satisfied: tensorboard in /usr/local/lib/python3.7/dist-packages (from detectron2==0.4.1) (2.5.0)\n",
            "Requirement already satisfied: fvcore<0.1.6,>=0.1.5 in /usr/local/lib/python3.7/dist-packages (from detectron2==0.4.1) (0.1.5)\n",
            "Requirement already satisfied: iopath<0.1.9,>=0.1.7 in /usr/local/lib/python3.7/dist-packages (from detectron2==0.4.1) (0.1.8)\n",
            "Requirement already satisfied: pycocotools>=2.0.2 in /usr/local/lib/python3.7/dist-packages (from detectron2==0.4.1) (2.0.2)\n",
            "Requirement already satisfied: future in /usr/local/lib/python3.7/dist-packages (from detectron2==0.4.1) (0.16.0)\n",
            "Requirement already satisfied: pydot in /usr/local/lib/python3.7/dist-packages (from detectron2==0.4.1) (1.3.0)\n",
            "Collecting omegaconf>=2.1.0rc1\n",
            "\u001b[?25l  Downloading https://files.pythonhosted.org/packages/f9/96/1966b48bfe6ca64bfadfa7bcc9a8d73c5d83b4be769321fcc5d617abeb0c/omegaconf-2.1.0-py3-none-any.whl (74kB)\n",
            "\u001b[K     |████████████████████████████████| 81kB 7.3MB/s \n",
            "\u001b[?25hCollecting hydra-core>=1.1.0rc1\n",
            "\u001b[?25l  Downloading https://files.pythonhosted.org/packages/c3/cd/85aa2e3a8babc36feac99df785e54abf99afbc4acc20488630f3ef46980a/hydra_core-1.1.0-py3-none-any.whl (144kB)\n",
            "\u001b[K     |████████████████████████████████| 153kB 25.0MB/s \n",
            "\u001b[?25hCollecting black==21.4b2\n",
            "\u001b[?25l  Downloading https://files.pythonhosted.org/packages/ec/c3/848edbd902fa908e941eaf72dc142b4a5c86e903c1e0129cf7cd098a485b/black-21.4b2-py3-none-any.whl (130kB)\n",
            "\u001b[K     |████████████████████████████████| 133kB 23.0MB/s \n",
            "\u001b[?25hRequirement already satisfied: PyYAML in /usr/local/lib/python3.7/dist-packages (from yacs>=0.1.6->detectron2==0.4.1) (5.4.1)\n",
            "Requirement already satisfied: numpy>=1.11 in /usr/local/lib/python3.7/dist-packages (from matplotlib->detectron2==0.4.1) (1.19.5)\n",
            "Requirement already satisfied: cycler>=0.10 in /usr/local/lib/python3.7/dist-packages (from matplotlib->detectron2==0.4.1) (0.10.0)\n",
            "Requirement already satisfied: python-dateutil>=2.1 in /usr/local/lib/python3.7/dist-packages (from matplotlib->detectron2==0.4.1) (2.8.1)\n",
            "Requirement already satisfied: kiwisolver>=1.0.1 in /usr/local/lib/python3.7/dist-packages (from matplotlib->detectron2==0.4.1) (1.3.1)\n",
            "Requirement already satisfied: pyparsing!=2.0.4,!=2.1.2,!=2.1.6,>=2.0.1 in /usr/local/lib/python3.7/dist-packages (from matplotlib->detectron2==0.4.1) (2.4.7)\n",
            "Requirement already satisfied: wheel>=0.26; python_version >= \"3\" in /usr/local/lib/python3.7/dist-packages (from tensorboard->detectron2==0.4.1) (0.36.2)\n",
            "Requirement already satisfied: tensorboard-data-server<0.7.0,>=0.6.0 in /usr/local/lib/python3.7/dist-packages (from tensorboard->detectron2==0.4.1) (0.6.1)\n",
            "Requirement already satisfied: tensorboard-plugin-wit>=1.6.0 in /usr/local/lib/python3.7/dist-packages (from tensorboard->detectron2==0.4.1) (1.8.0)\n",
            "Requirement already satisfied: google-auth<2,>=1.6.3 in /usr/local/lib/python3.7/dist-packages (from tensorboard->detectron2==0.4.1) (1.31.0)\n",
            "Requirement already satisfied: markdown>=2.6.8 in /usr/local/lib/python3.7/dist-packages (from tensorboard->detectron2==0.4.1) (3.3.4)\n",
            "Requirement already satisfied: grpcio>=1.24.3 in /usr/local/lib/python3.7/dist-packages (from tensorboard->detectron2==0.4.1) (1.34.1)\n",
            "Requirement already satisfied: werkzeug>=0.11.15 in /usr/local/lib/python3.7/dist-packages (from tensorboard->detectron2==0.4.1) (1.0.1)\n",
            "Requirement already satisfied: protobuf>=3.6.0 in /usr/local/lib/python3.7/dist-packages (from tensorboard->detectron2==0.4.1) (3.12.4)\n",
            "Requirement already satisfied: google-auth-oauthlib<0.5,>=0.4.1 in /usr/local/lib/python3.7/dist-packages (from tensorboard->detectron2==0.4.1) (0.4.4)\n",
            "Requirement already satisfied: absl-py>=0.4 in /usr/local/lib/python3.7/dist-packages (from tensorboard->detectron2==0.4.1) (0.12.0)\n",
            "Requirement already satisfied: requests<3,>=2.21.0 in /usr/local/lib/python3.7/dist-packages (from tensorboard->detectron2==0.4.1) (2.23.0)\n",
            "Requirement already satisfied: setuptools>=41.0.0 in /usr/local/lib/python3.7/dist-packages (from tensorboard->detectron2==0.4.1) (57.0.0)\n",
            "Requirement already satisfied: portalocker in /usr/local/lib/python3.7/dist-packages (from iopath<0.1.9,>=0.1.7->detectron2==0.4.1) (2.3.0)\n",
            "Requirement already satisfied: cython>=0.27.3 in /usr/local/lib/python3.7/dist-packages (from pycocotools>=2.0.2->detectron2==0.4.1) (0.29.23)\n",
            "Collecting antlr4-python3-runtime==4.8\n",
            "\u001b[?25l  Downloading https://files.pythonhosted.org/packages/56/02/789a0bddf9c9b31b14c3e79ec22b9656185a803dc31c15f006f9855ece0d/antlr4-python3-runtime-4.8.tar.gz (112kB)\n",
            "\u001b[K     |████████████████████████████████| 112kB 27.3MB/s \n",
            "\u001b[?25hRequirement already satisfied: importlib-resources; python_version < \"3.9\" in /usr/local/lib/python3.7/dist-packages (from hydra-core>=1.1.0rc1->detectron2==0.4.1) (5.1.4)\n",
            "Collecting pathspec<1,>=0.8.1\n",
            "  Downloading https://files.pythonhosted.org/packages/29/29/a465741a3d97ea3c17d21eaad4c64205428bde56742360876c4391f930d4/pathspec-0.8.1-py2.py3-none-any.whl\n",
            "Requirement already satisfied: appdirs in /usr/local/lib/python3.7/dist-packages (from black==21.4b2->detectron2==0.4.1) (1.4.4)\n",
            "Collecting mypy-extensions>=0.4.3\n",
            "  Downloading https://files.pythonhosted.org/packages/5c/eb/975c7c080f3223a5cdaff09612f3a5221e4ba534f7039db34c35d95fa6a5/mypy_extensions-0.4.3-py2.py3-none-any.whl\n",
            "Collecting typed-ast>=1.4.2; python_version < \"3.8\"\n",
            "\u001b[?25l  Downloading https://files.pythonhosted.org/packages/65/b3/573d2f1fecbbe8f82a8d08172e938c247f99abe1be3bef3da2efaa3810bf/typed_ast-1.4.3-cp37-cp37m-manylinux1_x86_64.whl (743kB)\n",
            "\u001b[K     |████████████████████████████████| 747kB 30.7MB/s \n",
            "\u001b[?25hRequirement already satisfied: typing-extensions>=3.7.4; python_version < \"3.8\" in /usr/local/lib/python3.7/dist-packages (from black==21.4b2->detectron2==0.4.1) (3.7.4.3)\n",
            "Collecting regex>=2020.1.8\n",
            "\u001b[?25l  Downloading https://files.pythonhosted.org/packages/c4/28/5f08d8841013ccf72cd95dfff2500fe7fb39467af12c5e7b802d8381d811/regex-2021.4.4-cp37-cp37m-manylinux2014_x86_64.whl (720kB)\n",
            "\u001b[K     |████████████████████████████████| 727kB 62.2MB/s \n",
            "\u001b[?25hRequirement already satisfied: click>=7.1.2 in /usr/local/lib/python3.7/dist-packages (from black==21.4b2->detectron2==0.4.1) (7.1.2)\n",
            "Requirement already satisfied: toml>=0.10.1 in /usr/local/lib/python3.7/dist-packages (from black==21.4b2->detectron2==0.4.1) (0.10.2)\n",
            "Requirement already satisfied: six in /usr/local/lib/python3.7/dist-packages (from cycler>=0.10->matplotlib->detectron2==0.4.1) (1.15.0)\n",
            "Requirement already satisfied: pyasn1-modules>=0.2.1 in /usr/local/lib/python3.7/dist-packages (from google-auth<2,>=1.6.3->tensorboard->detectron2==0.4.1) (0.2.8)\n",
            "Requirement already satisfied: rsa<5,>=3.1.4; python_version >= \"3.6\" in /usr/local/lib/python3.7/dist-packages (from google-auth<2,>=1.6.3->tensorboard->detectron2==0.4.1) (4.7.2)\n",
            "Requirement already satisfied: cachetools<5.0,>=2.0.0 in /usr/local/lib/python3.7/dist-packages (from google-auth<2,>=1.6.3->tensorboard->detectron2==0.4.1) (4.2.2)\n",
            "Requirement already satisfied: importlib-metadata; python_version < \"3.8\" in /usr/local/lib/python3.7/dist-packages (from markdown>=2.6.8->tensorboard->detectron2==0.4.1) (4.5.0)\n",
            "Requirement already satisfied: requests-oauthlib>=0.7.0 in /usr/local/lib/python3.7/dist-packages (from google-auth-oauthlib<0.5,>=0.4.1->tensorboard->detectron2==0.4.1) (1.3.0)\n",
            "Requirement already satisfied: chardet<4,>=3.0.2 in /usr/local/lib/python3.7/dist-packages (from requests<3,>=2.21.0->tensorboard->detectron2==0.4.1) (3.0.4)\n",
            "Requirement already satisfied: certifi>=2017.4.17 in /usr/local/lib/python3.7/dist-packages (from requests<3,>=2.21.0->tensorboard->detectron2==0.4.1) (2021.5.30)\n",
            "Requirement already satisfied: urllib3!=1.25.0,!=1.25.1,<1.26,>=1.21.1 in /usr/local/lib/python3.7/dist-packages (from requests<3,>=2.21.0->tensorboard->detectron2==0.4.1) (1.24.3)\n",
            "Requirement already satisfied: idna<3,>=2.5 in /usr/local/lib/python3.7/dist-packages (from requests<3,>=2.21.0->tensorboard->detectron2==0.4.1) (2.10)\n",
            "Requirement already satisfied: zipp>=3.1.0; python_version < \"3.10\" in /usr/local/lib/python3.7/dist-packages (from importlib-resources; python_version < \"3.9\"->hydra-core>=1.1.0rc1->detectron2==0.4.1) (3.4.1)\n",
            "Requirement already satisfied: pyasn1<0.5.0,>=0.4.6 in /usr/local/lib/python3.7/dist-packages (from pyasn1-modules>=0.2.1->google-auth<2,>=1.6.3->tensorboard->detectron2==0.4.1) (0.4.8)\n",
            "Requirement already satisfied: oauthlib>=3.0.0 in /usr/local/lib/python3.7/dist-packages (from requests-oauthlib>=0.7.0->google-auth-oauthlib<0.5,>=0.4.1->tensorboard->detectron2==0.4.1) (3.1.1)\n",
            "Building wheels for collected packages: antlr4-python3-runtime\n",
            "  Building wheel for antlr4-python3-runtime (setup.py) ... \u001b[?25l\u001b[?25hdone\n",
            "  Created wheel for antlr4-python3-runtime: filename=antlr4_python3_runtime-4.8-cp37-none-any.whl size=141231 sha256=ca49a3b4ea793882bf8a1f72204dc230ed5b75896ad8031f106ccf74e644ac3b\n",
            "  Stored in directory: /root/.cache/pip/wheels/e3/e2/fa/b78480b448b8579ddf393bebd3f47ee23aa84c89b6a78285c8\n",
            "Successfully built antlr4-python3-runtime\n",
            "Installing collected packages: antlr4-python3-runtime, omegaconf, hydra-core, pathspec, mypy-extensions, typed-ast, regex, black, detectron2\n",
            "  Found existing installation: regex 2019.12.20\n",
            "    Uninstalling regex-2019.12.20:\n",
            "      Successfully uninstalled regex-2019.12.20\n",
            "  Running setup.py develop for detectron2\n",
            "Successfully installed antlr4-python3-runtime-4.8 black-21.4b2 detectron2 hydra-core-1.1.0 mypy-extensions-0.4.3 omegaconf-2.1.0 pathspec-0.8.1 regex-2021.4.4 typed-ast-1.4.3\n"
          ],
          "name": "stdout"
        },
        {
          "output_type": "display_data",
          "data": {
            "application/vnd.colab-display-data+json": {
              "pip_warning": {
                "packages": [
                  "pydevd_plugins"
                ]
              }
            }
          },
          "metadata": {
            "tags": []
          }
        }
      ]
    },
    {
      "cell_type": "markdown",
      "metadata": {
        "id": "O4ZZYUS3V-AP"
      },
      "source": [
        "You might need to restart runtime here, the output box above should say."
      ]
    },
    {
      "cell_type": "code",
      "metadata": {
        "id": "G-Ux-GOLfDVa"
      },
      "source": [
        "import detectron2\n",
        "from detectron2.utils.logger import setup_logger\n",
        "setup_logger()\n",
        "\n",
        "# import some common libraries\n",
        "import matplotlib.pyplot as plt\n",
        "import numpy as np\n",
        "import cv2\n",
        "from google.colab.patches import cv2_imshow\n",
        "\n",
        "# import some common detectron2 utilities\n",
        "from detectron2.engine import DefaultPredictor\n",
        "from detectron2.config import get_cfg\n",
        "from detectron2.utils.visualizer import Visualizer\n",
        "from detectron2.data import MetadataCatalog, DatasetCatalog"
      ],
      "execution_count": null,
      "outputs": []
    },
    {
      "cell_type": "markdown",
      "metadata": {
        "id": "SKQnPNftoXnf"
      },
      "source": [
        "Change input_path as necessary, the detector works on nested folders.\n",
        "The detector should create PIPE_out.txt in the root directory. PIPE_out.txt contains all cell counts (without GUI curation).\n",
        "\n",
        "The program will print the name of the image it is currently working on. Depending on hardware, the program may crash on larger images. To remedy crashes more GPU resources are needed."
      ]
    },
    {
      "cell_type": "code",
      "metadata": {
        "colab": {
          "base_uri": "https://localhost:8080/"
        },
        "id": "PXu9fOu0foFB",
        "outputId": "950969fe-4e86-4e67-f4bd-9b51fc5b294c"
      },
      "source": [
        "input_path = \"\"\n",
        "!python /content/Buchnearer/detector_example.py"
      ],
      "execution_count": null,
      "outputs": [
        {
          "output_type": "stream",
          "text": [
            "1.9.0+cu102 True\n",
            "The checkpoint state_dict contains keys that are not used by the model:\n",
            "  \u001b[35mproposal_generator.anchor_generator.cell_anchors.{0, 1, 2, 3}\u001b[0m\n",
            "1.9.0+cu102 True\n",
            "The checkpoint state_dict contains keys that are not used by the model:\n",
            "  \u001b[35mpixel_mean\u001b[0m\n",
            "  \u001b[35mpixel_std\u001b[0m\n",
            "  \u001b[35mproposal_generator.anchor_generator.cell_anchors.{0, 1, 2, 3, 4}\u001b[0m\n",
            "20210607_LSR1_N2_flat_1_DAPI.png\n",
            "/usr/local/lib/python3.7/dist-packages/torch/_tensor.py:575: UserWarning: floor_divide is deprecated, and will be removed in a future version of pytorch. It currently rounds toward 0 (like the 'trunc' function NOT 'floor'). This results in incorrect rounding for negative values.\n",
            "To keep the current behavior, use torch.div(a, b, rounding_mode='trunc'), or for actual floor division, use torch.div(a, b, rounding_mode='floor'). (Triggered internally at  /pytorch/aten/src/ATen/native/BinaryOps.cpp:467.)\n",
            "  return torch.floor_divide(self, other)\n",
            "/usr/local/lib/python3.7/dist-packages/torch/nn/functional.py:718: UserWarning: Named tensors and all their associated APIs are an experimental feature and subject to change. Please do not use them for anything important until they are released as stable. (Triggered internally at  /pytorch/c10/core/TensorImpl.h:1156.)\n",
            "  return torch.max_pool2d(input, kernel_size, stride, padding, dilation, ceil_mode)\n",
            "tcmalloc: large alloc 3271557120 bytes == 0x561343b76000 @  0x7f65464a7b6b 0x7f65464c7379 0x7f64eacd526e 0x7f64eacd69e2 0x7f652f3f1a73 0x7f652e8b6a9d 0x7f652f397014 0x7f652e936f59 0x7f652e937785 0x7f652f085ad2 0x7f652ec28cc2 0x7f652e93faab 0x7f652f17b542 0x7f652efb7db4 0x7f653070b147 0x7f653070b7f5 0x7f652ec28212 0x7f65415e95ee 0x5611dc3cbd54 0x5611dc3cba50 0x5611dc440105 0x5611dc43a7ad 0x5611dc3cd3ea 0x5611dc43f7f0 0x5611dc43a7ad 0x5611dc3cd3ea 0x5611dc43c32a 0x5611dc43a4ae 0x5611dc43a1b3 0x5611dc504182 0x5611dc5044fd\n",
            "20210607_LSR1_N3_flat.lif - 20210607_LSR1_N3_flat_2_DAPI.png\n",
            "tcmalloc: large alloc 3145728000 bytes == 0x56133ab76000 @  0x7f65464a7b6b 0x7f65464c7379 0x7f64eacd526e 0x7f64eacd69e2 0x7f652f3f1a73 0x7f652e8b6a9d 0x7f652f397014 0x7f652e936f59 0x7f652e937785 0x7f652f085ad2 0x7f652ec28cc2 0x7f652e93faab 0x7f652f17b542 0x7f652efb7db4 0x7f653070b147 0x7f653070b7f5 0x7f652ec28212 0x7f65415e95ee 0x5611dc3cbd54 0x5611dc3cba50 0x5611dc440105 0x5611dc43a7ad 0x5611dc3cd3ea 0x5611dc43f7f0 0x5611dc43a7ad 0x5611dc3cd3ea 0x5611dc43c32a 0x5611dc43a4ae 0x5611dc43a1b3 0x5611dc504182 0x5611dc5044fd\n",
            "20210607_LSR1_N3_flat.lif - 20210607_LSR1_N3_flat_4_DAPI.png\n",
            "tcmalloc: large alloc 4055891968 bytes == 0x561370b76000 @  0x7f65464a7b6b 0x7f65464c7379 0x7f64eacd526e 0x7f64eacd69e2 0x7f652f3f1a73 0x7f652e8b6a9d 0x7f652f397014 0x7f652e936f59 0x7f652e937785 0x7f652f085ad2 0x7f652ec28cc2 0x7f652e93faab 0x7f652f17b542 0x7f652efb7db4 0x7f653070b147 0x7f653070b7f5 0x7f652ec28212 0x7f65415e95ee 0x5611dc3cbd54 0x5611dc3cba50 0x5611dc440105 0x5611dc43a7ad 0x5611dc3cd3ea 0x5611dc43f7f0 0x5611dc43a7ad 0x5611dc3cd3ea 0x5611dc43c32a 0x5611dc43a4ae 0x5611dc43a1b3 0x5611dc504182 0x5611dc5044fd\n",
            "20210614_LSR1_N4_flat.lif - 20210614_LSR1_N4_flat_6_DAPI.png\n",
            "tcmalloc: large alloc 7147094016 bytes == 0x5614f8f76000 @  0x7f65464a7b6b 0x7f65464c7379 0x7f64eacd526e 0x7f64eacd69e2 0x7f652f3f1a73 0x7f652e8b6a9d 0x7f652f397014 0x7f652e936f59 0x7f652e937785 0x7f652f085ad2 0x7f652ec28cc2 0x7f652e93faab 0x7f652f17b542 0x7f652efb7db4 0x7f653070b147 0x7f653070b7f5 0x7f652ec28212 0x7f65415e95ee 0x5611dc3cbd54 0x5611dc3cba50 0x5611dc440105 0x5611dc43a7ad 0x5611dc3cd3ea 0x5611dc43f7f0 0x5611dc43a7ad 0x5611dc3cd3ea 0x5611dc43c32a 0x5611dc43a4ae 0x5611dc43a1b3 0x5611dc504182 0x5611dc5044fd\n",
            "20210614_LSR1_N4_flat.lif - 20210614_LSR1_N4_flat_2_DAPI.png\n",
            "tcmalloc: large alloc 4508876800 bytes == 0x56158a376000 @  0x7f65464a7b6b 0x7f65464c7379 0x7f64eacd526e 0x7f64eacd69e2 0x7f652f3f1a73 0x7f652e8b6a9d 0x7f652f397014 0x7f652e936f59 0x7f652e937785 0x7f652f085ad2 0x7f652ec28cc2 0x7f652e93faab 0x7f652f17b542 0x7f652efb7db4 0x7f653070b147 0x7f653070b7f5 0x7f652ec28212 0x7f65415e95ee 0x5611dc3cbd54 0x5611dc3cba50 0x5611dc440105 0x5611dc43a7ad 0x5611dc3cd3ea 0x5611dc43f7f0 0x5611dc43a7ad 0x5611dc3cd3ea 0x5611dc43c32a 0x5611dc43a4ae 0x5611dc43a1b3 0x5611dc504182 0x5611dc5044fd\n",
            "20210614_LSR1_N4_flat.lif - 20210614_LSR1_N4_flat_5_DAPI.png\n",
            "tcmalloc: large alloc 6870269952 bytes == 0x561302776000 @  0x7f65464a7b6b 0x7f65464c7379 0x7f64eacd526e 0x7f64eacd69e2 0x7f652f3f1a73 0x7f652e8b6a9d 0x7f652f397014 0x7f652e936f59 0x7f652e937785 0x7f652f085ad2 0x7f652ec28cc2 0x7f652e93faab 0x7f652f17b542 0x7f652efb7db4 0x7f653070b147 0x7f653070b7f5 0x7f652ec28212 0x7f65415e95ee 0x5611dc3cbd54 0x5611dc3cba50 0x5611dc440105 0x5611dc43a7ad 0x5611dc3cd3ea 0x5611dc43f7f0 0x5611dc43a7ad 0x5611dc3cd3ea 0x5611dc43c32a 0x5611dc43a4ae 0x5611dc43a1b3 0x5611dc504182 0x5611dc5044fd\n",
            "20210614_LSR1_N4_flat.lif - 20210614_LSR1_N4_flat_1_DAPI.png\n",
            "tcmalloc: large alloc 7348420608 bytes == 0x561302776000 @  0x7f65464a7b6b 0x7f65464c7379 0x7f64eacd526e 0x7f64eacd69e2 0x7f652f3f1a73 0x7f652e8b6a9d 0x7f652f397014 0x7f652e936f59 0x7f652e937785 0x7f652f085ad2 0x7f652ec28cc2 0x7f652e93faab 0x7f652f17b542 0x7f652efb7db4 0x7f653070b147 0x7f653070b7f5 0x7f652ec28212 0x7f65415e95ee 0x5611dc3cbd54 0x5611dc3cba50 0x5611dc440105 0x5611dc43a7ad 0x5611dc3cd3ea 0x5611dc43f7f0 0x5611dc43a7ad 0x5611dc3cd3ea 0x5611dc43c32a 0x5611dc43a4ae 0x5611dc43a1b3 0x5611dc504182 0x5611dc5044fd\n",
            "20210614_LSR1_D9_flat_.lif - 20210614_LSR1_D9_flat_2_DAPI.png\n",
            "tcmalloc: large alloc 6194987008 bytes == 0x561302776000 @  0x7f65464a7b6b 0x7f65464c7379 0x7f64eacd526e 0x7f64eacd69e2 0x7f652f3f1a73 0x7f652e8b6a9d 0x7f652f397014 0x7f652e936f59 0x7f652e937785 0x7f652f085ad2 0x7f652ec28cc2 0x7f652e93faab 0x7f652f17b542 0x7f652efb7db4 0x7f653070b147 0x7f653070b7f5 0x7f652ec28212 0x7f65415e95ee 0x5611dc3cbd54 0x5611dc3cba50 0x5611dc440105 0x5611dc43a7ad 0x5611dc3cd3ea 0x5611dc43f7f0 0x5611dc43a7ad 0x5611dc3cd3ea 0x5611dc43c32a 0x5611dc43a4ae 0x5611dc43a1b3 0x5611dc504182 0x5611dc5044fd\n",
            "20210614_LSR1_D9_flat_.lif - 20210614_LSR1_D9_flat_1_DAPI.png\n",
            "tcmalloc: large alloc 4324327424 bytes == 0x561584b76000 @  0x7f65464a7b6b 0x7f65464c7379 0x7f64eacd526e 0x7f64eacd69e2 0x7f652f3f1a73 0x7f652e8b6a9d 0x7f652f397014 0x7f652e936f59 0x7f652e937785 0x7f652f085ad2 0x7f652ec28cc2 0x7f652e93faab 0x7f652f17b542 0x7f652efb7db4 0x7f653070b147 0x7f653070b7f5 0x7f652ec28212 0x7f65415e95ee 0x5611dc3cbd54 0x5611dc3cba50 0x5611dc440105 0x5611dc43a7ad 0x5611dc3cd3ea 0x5611dc43f7f0 0x5611dc43a7ad 0x5611dc3cd3ea 0x5611dc43c32a 0x5611dc43a4ae 0x5611dc43a1b3 0x5611dc504182 0x5611dc5044fd\n",
            "20210614_LSR1_D13_flat_.lif - 20210614_LSR1_D13_flat_8_DAPI.png\n",
            "tcmalloc: large alloc 4580179968 bytes == 0x561589776000 @  0x7f65464a7b6b 0x7f65464c7379 0x7f64eacd526e 0x7f64eacd69e2 0x7f652f3f1a73 0x7f652e8b6a9d 0x7f652f397014 0x7f652e936f59 0x7f652e937785 0x7f652f085ad2 0x7f652ec28cc2 0x7f652e93faab 0x7f652f17b542 0x7f652efb7db4 0x7f653070b147 0x7f653070b7f5 0x7f652ec28212 0x7f65415e95ee 0x5611dc3cbd54 0x5611dc3cba50 0x5611dc440105 0x5611dc43a7ad 0x5611dc3cd3ea 0x5611dc43f7f0 0x5611dc43a7ad 0x5611dc3cd3ea 0x5611dc43c32a 0x5611dc43a4ae 0x5611dc43a1b3 0x5611dc504182 0x5611dc5044fd\n",
            "20210614_LSR1_D13_flat_.lif - 20210614_LSR1_D13_flat_5_phal_DAPI.png\n",
            "tcmalloc: large alloc 6807355392 bytes == 0x561302776000 @  0x7f65464a7b6b 0x7f65464c7379 0x7f64eacd526e 0x7f64eacd69e2 0x7f652f3f1a73 0x7f652e8b6a9d 0x7f652f397014 0x7f652e936f59 0x7f652e937785 0x7f652f085ad2 0x7f652ec28cc2 0x7f652e93faab 0x7f652f17b542 0x7f652efb7db4 0x7f653070b147 0x7f653070b7f5 0x7f652ec28212 0x7f65415e95ee 0x5611dc3cbd54 0x5611dc3cba50 0x5611dc440105 0x5611dc43a7ad 0x5611dc3cd3ea 0x5611dc43f7f0 0x5611dc43a7ad 0x5611dc3cd3ea 0x5611dc43c32a 0x5611dc43a4ae 0x5611dc43a1b3 0x5611dc504182 0x5611dc5044fd\n",
            "20210614_LSR1_D13_flat_.lif - 20210614_LSR1_D13_flat_13_DAPI.png\n",
            "20210614_LSR1_D13_flat_.lif - 20210614_LSR1_D13_flat_12_DAPI.png\n",
            "20210614_LSR1_D13_flat_.lif - 20210614_LSR1_D13_flat_15_DAPI.png\n",
            "20210614_LSR1_D13_flat_.lif - 20210614_LSR1_D13_flat_4_DAPI.png\n",
            "tcmalloc: large alloc 4907335680 bytes == 0x561302776000 @  0x7f65464a7b6b 0x7f65464c7379 0x7f64eacd526e 0x7f64eacd69e2 0x7f652f3f1a73 0x7f652e8b6a9d 0x7f652f397014 0x7f652e936f59 0x7f652e937785 0x7f652f085ad2 0x7f652ec28cc2 0x7f652e93faab 0x7f652f17b542 0x7f652efb7db4 0x7f653070b147 0x7f653070b7f5 0x7f652ec28212 0x7f65415e95ee 0x5611dc3cbd54 0x5611dc3cba50 0x5611dc440105 0x5611dc43a7ad 0x5611dc3cd3ea 0x5611dc43f7f0 0x5611dc43a7ad 0x5611dc3cd3ea 0x5611dc43c32a 0x5611dc43a4ae 0x5611dc43a1b3 0x5611dc504182 0x5611dc5044fd\n",
            "20210614_LSR1_D13_flat_.lif - 20210614_LSR1_D13_flat_11_DAPI.png\n",
            "tcmalloc: large alloc 4437573632 bytes == 0x561585f76000 @  0x7f65464a7b6b 0x7f65464c7379 0x7f64eacd526e 0x7f64eacd69e2 0x7f652f3f1a73 0x7f652e8b6a9d 0x7f652f397014 0x7f652e936f59 0x7f652e937785 0x7f652f085ad2 0x7f652ec28cc2 0x7f652e93faab 0x7f652f17b542 0x7f652efb7db4 0x7f653070b147 0x7f653070b7f5 0x7f652ec28212 0x7f65415e95ee 0x5611dc3cbd54 0x5611dc3cba50 0x5611dc440105 0x5611dc43a7ad 0x5611dc3cd3ea 0x5611dc43f7f0 0x5611dc43a7ad 0x5611dc3cd3ea 0x5611dc43c32a 0x5611dc43a4ae 0x5611dc43a1b3 0x5611dc504182 0x5611dc5044fd\n",
            "20210614_LSR1_D13_flat_.lif - 20210614_LSR1_D13_flat_7_DAPI.png\n",
            "20210614_LSR1_D13_flat_.lif - 20210614_LSR1_D13_flat_6_DAPI.png\n",
            "20210614_LSR1_D13_flat_.lif - 20210614_LSR1_D13_flat_17_DAPI.png\n",
            "20210614_LSR1_D13_flat_.lif - 20210614_LSR1_D13_flat_16_DAPI.png\n",
            "tcmalloc: large alloc 7583301632 bytes == 0x561302776000 @  0x7f65464a7b6b 0x7f65464c7379 0x7f64eacd526e 0x7f64eacd69e2 0x7f652f3f1a73 0x7f652e8b6a9d 0x7f652f397014 0x7f652e936f59 0x7f652e937785 0x7f652f085ad2 0x7f652ec28cc2 0x7f652e93faab 0x7f652f17b542 0x7f652efb7db4 0x7f653070b147 0x7f653070b7f5 0x7f652ec28212 0x7f65415e95ee 0x5611dc3cbd54 0x5611dc3cba50 0x5611dc440105 0x5611dc43a7ad 0x5611dc3cd3ea 0x5611dc43f7f0 0x5611dc43a7ad 0x5611dc3cd3ea 0x5611dc43c32a 0x5611dc43a4ae 0x5611dc43a1b3 0x5611dc504182 0x5611dc5044fd\n",
            "20210614_LSR1_D13_flat_.lif - 20210614_LSR1_D13_flat_9_DAPI.png\n",
            "20210614_LSR1_D13_flat_.lif - 20210614_LSR1_D13_flat_10_DAPI.png\n"
          ],
          "name": "stdout"
        }
      ]
    },
    {
      "cell_type": "markdown",
      "metadata": {
        "id": "AcLEB5XJpH0b"
      },
      "source": [
        "OUtput images, and result files are saved within input_path in 'Prediction' folder. Use the GUI ('GUI.py') on input images and .result files to perform manual curation"
      ]
    }
  ]
}