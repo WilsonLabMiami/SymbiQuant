{
  "nbformat": 4,
  "nbformat_minor": 0,
  "metadata": {
    "accelerator": "GPU",
    "colab": {
      "name": "SymbiQuant.ipynb",
      "provenance": [],
      "collapsed_sections": [],
      "machine_shape": "hm"
    },
    "kernelspec": {
      "display_name": "Python 3",
      "name": "python3"
    },
    "language_info": {
      "name": "python"
    }
  },
  "cells": [
    {
      "cell_type": "markdown",
      "metadata": {
        "id": "c4zGzoV_nKJF"
      },
      "source": [
        "# **Set up for SymbiQuant** \n",
        "The code in the following cells to set up SymbiQuant. As default it runs on the Buchnera dataset. You are able to swap that dataset out for your own system by changing the 'Buchnearer' dataset for a custom-made system specific one within 'Buchnearer.py'. All code is stored in the SymbiQuant github. There is a short description of what each code cell is doing above each cell."
      ]
    },
    {
      "cell_type": "markdown",
      "metadata": {
        "id": "XvHXXIKD8BDf"
      },
      "source": [
        "Download required .pth file too large for github. The .pth file contains the trained *Buchnera* model. It is downloaded from Ed's gdrive."
      ]
    },
    {
      "cell_type": "code",
      "metadata": {
        "id": "rTHNbtVw6nQZ"
      },
      "source": [
        "!gdown --id 1wZoDbMcc0nop3R4rQS3haMF1BbX6DcYC"
      ],
      "execution_count": null,
      "outputs": []
    },
    {
      "cell_type": "code",
      "metadata": {
        "id": "9e6f_K0ehmJa"
      },
      "source": [
        "#Check that this is a GPU enabled session - can alter via >Runtime >Change runtime type\n",
        "\n",
        "!nvidia-smi"
      ],
      "execution_count": null,
      "outputs": []
    },
    {
      "cell_type": "markdown",
      "metadata": {
        "id": "uQs93Cnpn0N_"
      },
      "source": [
        "The previous cell should give some information about the GPU if it is present. Once you have a GPU runtime, we need to install and set up some other things. Firstly, the SymbiQuant github, and secondly some set up of this run time."
      ]
    },
    {
      "cell_type": "code",
      "metadata": {
        "id": "oXOINDuqd0l6"
      },
      "source": [
        "#Import the SymbiQuant data and software.\n",
        "\n",
        "!git clone https://github.com/WilsonLabMiami/SymbiQuant.git\n"
      ],
      "execution_count": null,
      "outputs": []
    },
    {
      "cell_type": "code",
      "metadata": {
        "id": "wEaNx8-qenQb",
        "collapsed": true
      },
      "source": [
        "#Install and test set up of torch and detectron2\n",
        "!pip install -U torch==1.9 torchvision\n",
        "!pip install git+https://github.com/facebookresearch/fvcore.git\n",
        "import torch, torchvision\n",
        "torch.__version__\n",
        "\n",
        "!git clone https://github.com/facebookresearch/detectron2 detectron2_repo\n",
        "!pip install -e detectron2_repo"
      ],
      "execution_count": null,
      "outputs": []
    },
    {
      "cell_type": "markdown",
      "metadata": {
        "id": "O4ZZYUS3V-AP"
      },
      "source": [
        "You might need to restart runtime here, the output box above should say."
      ]
    },
    {
      "cell_type": "code",
      "metadata": {
        "id": "G-Ux-GOLfDVa"
      },
      "source": [
        "import detectron2\n",
        "from detectron2.utils.logger import setup_logger\n",
        "setup_logger()\n",
        "\n",
        "# import some common libraries\n",
        "import matplotlib.pyplot as plt\n",
        "import numpy as np\n",
        "import cv2\n",
        "from google.colab.patches import cv2_imshow\n",
        "\n",
        "# import some common detectron2 utilities\n",
        "from detectron2.engine import DefaultPredictor\n",
        "from detectron2.config import get_cfg\n",
        "from detectron2.utils.visualizer import Visualizer\n",
        "from detectron2.data import MetadataCatalog, DatasetCatalog"
      ],
      "execution_count": null,
      "outputs": []
    },
    {
      "cell_type": "markdown",
      "metadata": {
        "id": "y5DsgHuyUVtG"
      },
      "source": [
        "The next cell should mount your google drive - this lets you run SymbiQuant on images from your google drive without them being deleted when this computer session ends"
      ]
    },
    {
      "cell_type": "code",
      "metadata": {
        "id": "FNoS7G0OezlT"
      },
      "source": [
        "from google.colab import drive\n",
        "drive.mount('/content/drive')"
      ],
      "execution_count": null,
      "outputs": []
    },
    {
      "cell_type": "markdown",
      "metadata": {
        "id": "SKQnPNftoXnf"
      },
      "source": [
        "# **Using SymbiQuant**\n",
        "Change input_path as necessary in detector_example.py line 54. The detector works on nested folders (input path with experimental groups in subfolders).\n",
        "The detector should create 'SymbiQuant_count_noQC.txt' in the root directory. SymbiQuant_count_noQC.txt contains all cell counts (without GUI curation).\n",
        "\n",
        "The program will print the name of the image it is currently working on, possably along with a large memory allocation message. Depending on hardware, the program may crash on larger images. To remedy crashes more GPU resources are needed."
      ]
    },
    {
      "cell_type": "code",
      "metadata": {
        "id": "PXu9fOu0foFB"
      },
      "source": [
        "  !python /content/SymbiQuant/detector_example.py"
      ],
      "execution_count": null,
      "outputs": []
    },
    {
      "cell_type": "markdown",
      "metadata": {
        "id": "AcLEB5XJpH0b"
      },
      "source": [
        "Output images, and result files are saved within input_path in 'Prediction' folder. Use the GUI ('GUI.py' in the project github) on input images (not output images which have a pemenant overlay of detected Buchnera and '.result' files to perform manual curation. You'll need to do this on a local computer."
      ]
    }
  ]
}